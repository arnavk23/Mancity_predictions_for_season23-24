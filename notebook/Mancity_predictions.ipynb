{
 "cells": [
  {
   "cell_type": "code",
   "execution_count": null,
   "metadata": {},
   "outputs": [],
   "source": [
    "import pandas as pd\n",
    "from sklearn.ensemble import RandomForestClassifier\n",
    "from sklearn.model_selection import train_test_split\n",
    "from sklearn.metrics import accuracy_score, precision_score\n",
    "\n",
    "# Load the dataset\n",
    "mancity = pd.read_csv('../data/mancity23-24.csv', index_col=0)\n",
    "\n",
    "# Data preprocessing\n",
    "mancity['target'] = (mancity['Result'] == 'W').astype('int')\n",
    "mancity['poss'] = mancity['poss'].astype('int')\n",
    "mancity['passes'] = mancity['passes'].astype('int')\n",
    "\n",
    "# Split the data into training and testing sets\n",
    "train, test = train_test_split(mancity, test_size=0.2, random_state=42)\n",
    "\n",
    "# Define predictors\n",
    "predictors = ['poss', 'passes']\n",
    "\n",
    "# Train the model\n",
    "rf = RandomForestClassifier(n_estimators=50, min_samples_split=10, random_state=1)\n",
    "rf.fit(train[predictors], train['target'])\n",
    "\n",
    "# Make predictions\n",
    "preds = rf.predict(test[predictors].values)\n",
    "\n",
    "# Evaluate the model\n",
    "accuracy = accuracy_score(test['target'], preds)\n",
    "precision = precision_score(test['target'], preds)\n",
    "\n",
    "# Display results\n",
    "print(f'Accuracy: {accuracy}')\n",
    "print(f'Precision: {precision}')\n",
    "\n",
    "# Create a DataFrame for actual vs predicted\n",
    "combined = pd.DataFrame({'actual': test['target'], 'predicted': preds})\n",
    "print(pd.crosstab(index=combined['actual'], columns=combined['predicted']))"
   ]
  }
 ],
 "metadata": {
  "kernelspec": {
   "display_name": "Python 3",
   "language": "python",
   "name": "python3"
  },
  "language_info": {
   "codemirror_mode": {
    "name": "ipython",
    "version": 3
   },
   "file_extension": ".py",
   "mimetype": "text/x-python",
   "name": "python",
   "nbconvert_exporter": "python",
   "pygments_lexer": "ipython3",
   "version": "3.8.5"
  }
 },
 "nbformat": 4,
 "nbformat_minor": 4
}