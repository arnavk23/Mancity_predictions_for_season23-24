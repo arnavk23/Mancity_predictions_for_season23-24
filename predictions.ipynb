{
  "nbformat": 4,
  "nbformat_minor": 0,
  "metadata": {
    "colab": {
      "provenance": []
    },
    "kernelspec": {
      "name": "python3",
      "display_name": "Python 3"
    },
    "language_info": {
      "name": "python"
    }
  },
  "cells": [
    {
      "cell_type": "code",
      "execution_count": 1,
      "metadata": {
        "id": "BShJUNGSdceP"
      },
      "outputs": [],
      "source": [
        "import pandas as pd\n",
        "import numpy as np\n",
        "import torch\n",
        "import torch.nn as nn\n",
        "import torch.optim as optim\n",
        "from sklearn.model_selection import train_test_split\n",
        "from sklearn.preprocessing import LabelEncoder, StandardScaler"
      ]
    },
    {
      "cell_type": "code",
      "source": [
        "df = pd.read_csv(\"mancity23-24.csv\")"
      ],
      "metadata": {
        "id": "nzMDzyFCdewI"
      },
      "execution_count": 2,
      "outputs": []
    },
    {
      "cell_type": "code",
      "source": [
        "# Drop irrelevant columns\n",
        "df.drop(columns=['Unnamed: 0', 'Date', 'Venue'], inplace=True)"
      ],
      "metadata": {
        "id": "s4hNfCRxdt1e"
      },
      "execution_count": 3,
      "outputs": []
    },
    {
      "cell_type": "code",
      "source": [
        "# Encode target variable\n",
        "label_encoder = LabelEncoder()\n",
        "df['Result'] = label_encoder.fit_transform(df['Result'])  # W=2, D=0, L=1"
      ],
      "metadata": {
        "id": "qHmDIF0ydyGo"
      },
      "execution_count": 4,
      "outputs": []
    },
    {
      "cell_type": "code",
      "source": [
        "# One-hot encode categorical features\n",
        "categorical_cols = ['H/A', 'Competition', 'opponent(opp)']\n",
        "df = pd.get_dummies(df, columns=categorical_cols)"
      ],
      "metadata": {
        "id": "1e82blvGd2jC"
      },
      "execution_count": 5,
      "outputs": []
    },
    {
      "cell_type": "code",
      "source": [
        "# Separate features and label\n",
        "X = df.drop(columns=['Result'])\n",
        "y = df['Result']"
      ],
      "metadata": {
        "id": "t5rayUnpd5V3"
      },
      "execution_count": 6,
      "outputs": []
    },
    {
      "cell_type": "code",
      "source": [
        "# Normalize features\n",
        "scaler = StandardScaler()\n",
        "X_scaled = scaler.fit_transform(X)"
      ],
      "metadata": {
        "id": "abLARWcdd7Bj"
      },
      "execution_count": 7,
      "outputs": []
    },
    {
      "cell_type": "code",
      "source": [
        "# Split into training and test sets\n",
        "X_train, X_test, y_train, y_test = train_test_split(\n",
        "    X_scaled, y, test_size=0.2, random_state=42\n",
        ")"
      ],
      "metadata": {
        "id": "As00JhOHd9AZ"
      },
      "execution_count": 8,
      "outputs": []
    },
    {
      "cell_type": "code",
      "source": [
        "# Convert to PyTorch tensors\n",
        "X_train = torch.tensor(X_train, dtype=torch.float32)\n",
        "X_test = torch.tensor(X_test, dtype=torch.float32)\n",
        "y_train = torch.tensor(y_train.values, dtype=torch.long)\n",
        "y_test = torch.tensor(y_test.values, dtype=torch.long)"
      ],
      "metadata": {
        "id": "A6DQbyupeALF"
      },
      "execution_count": 9,
      "outputs": []
    },
    {
      "cell_type": "code",
      "source": [
        "# Define neural network\n",
        "class MatchPredictor(nn.Module):\n",
        "    def __init__(self, input_size):\n",
        "        super(MatchPredictor, self).__init__()\n",
        "        self.fc1 = nn.Linear(input_size, 64)\n",
        "        self.fc2 = nn.Linear(64, 32)\n",
        "        self.fc3 = nn.Linear(32, 3)  # 3 output classes: Win, Draw, Loss\n",
        "\n",
        "    def forward(self, x):\n",
        "        x = torch.relu(self.fc1(x))\n",
        "        x = torch.relu(self.fc2(x))\n",
        "        return self.fc3(x)"
      ],
      "metadata": {
        "id": "2LG0ElJVeE2N"
      },
      "execution_count": 10,
      "outputs": []
    },
    {
      "cell_type": "code",
      "source": [
        "# Initialize model\n",
        "model = MatchPredictor(input_size=X_train.shape[1])\n",
        "criterion = nn.CrossEntropyLoss()\n",
        "optimizer = optim.Adam(model.parameters(), lr=0.001)\n"
      ],
      "metadata": {
        "id": "occdh29AeHoA"
      },
      "execution_count": 11,
      "outputs": []
    },
    {
      "cell_type": "code",
      "source": [
        "# Training loop\n",
        "for epoch in range(100):\n",
        "    model.train()\n",
        "    optimizer.zero_grad()\n",
        "    output = model(X_train)\n",
        "    loss = criterion(output, y_train)\n",
        "    loss.backward()\n",
        "    optimizer.step()\n",
        "\n",
        "    if (epoch + 1) % 10 == 0:\n",
        "        print(f\"Epoch {epoch+1}, Loss: {loss.item():.4f}\")"
      ],
      "metadata": {
        "colab": {
          "base_uri": "https://localhost:8080/"
        },
        "id": "-bNMV9oVeJ6g",
        "outputId": "cc82e478-175e-48ef-f222-100feeb420b6"
      },
      "execution_count": 12,
      "outputs": [
        {
          "output_type": "stream",
          "name": "stdout",
          "text": [
            "Epoch 10, Loss: 0.8847\n",
            "Epoch 20, Loss: 0.7019\n",
            "Epoch 30, Loss: 0.5261\n",
            "Epoch 40, Loss: 0.3901\n",
            "Epoch 50, Loss: 0.2844\n",
            "Epoch 60, Loss: 0.1938\n",
            "Epoch 70, Loss: 0.1232\n",
            "Epoch 80, Loss: 0.0728\n",
            "Epoch 90, Loss: 0.0398\n",
            "Epoch 100, Loss: 0.0224\n"
          ]
        }
      ]
    },
    {
      "cell_type": "code",
      "source": [
        "# Evaluation\n",
        "model.eval()\n",
        "with torch.no_grad():\n",
        "    predictions = model(X_test).argmax(dim=1)\n",
        "    accuracy = (predictions == y_test).float().mean()\n",
        "    print(f\"Test Accuracy: {accuracy:.2%}\")"
      ],
      "metadata": {
        "colab": {
          "base_uri": "https://localhost:8080/"
        },
        "id": "fGyHhD0NeOJz",
        "outputId": "74402b05-974e-4981-a35d-b5d7b213fd3f"
      },
      "execution_count": 13,
      "outputs": [
        {
          "output_type": "stream",
          "name": "stdout",
          "text": [
            "Test Accuracy: 75.00%\n"
          ]
        }
      ]
    },
    {
      "cell_type": "code",
      "source": [
        "# Predict tomorrow's match\n",
        "# Example: Home match vs Arsenal, 60% possession, 15 shots, etc.\n",
        "new_match = {\n",
        "    \"Possession(%)\": 60,\n",
        "    \"Goals\": 2,\n",
        "    \"Total attempts\": 15,\n",
        "    \"On target\": 7,\n",
        "    \"Passes\": 600,\n",
        "    \"Fouls\": 10,\n",
        "    \"Yellow cards\": 1,\n",
        "    \"Red cards\": 0,\n",
        "    \"H/A_H\": 1,\n",
        "    \"H/A_A\": 0,\n",
        "    \"Competition_Premier League\": 1,\n",
        "    \"opponent(opp)_Arsenal\": 1,\n",
        "}"
      ],
      "metadata": {
        "id": "BWJz5OJyeSNw"
      },
      "execution_count": 14,
      "outputs": []
    },
    {
      "cell_type": "code",
      "source": [
        "# Fill missing columns with 0\n",
        "for col in X.columns:\n",
        "    if col not in new_match:\n",
        "        new_match[col] = 0"
      ],
      "metadata": {
        "id": "HFIhY8R7ebYP"
      },
      "execution_count": 15,
      "outputs": []
    },
    {
      "cell_type": "code",
      "source": [
        "# Reorder and scale\n",
        "# Get the values for the original columns in the same order as the training data\n",
        "match_data = [new_match[col] for col in X.columns]\n",
        "match_tensor = torch.tensor(scaler.transform([match_data]), dtype=torch.float32)\n",
        "\n",
        "model.eval()\n",
        "with torch.no_grad():\n",
        "    probs = torch.softmax(model(match_tensor), dim=1)\n",
        "    win_prob = probs[0][label_encoder.transform(['W'])[0]].item()\n",
        "    draw_prob = probs[0][label_encoder.transform(['D'])[0]].item()\n",
        "    loss_prob = probs[0][label_encoder.transform(['L'])[0]].item()\n"
      ],
      "metadata": {
        "colab": {
          "base_uri": "https://localhost:8080/"
        },
        "id": "RAnPHvPFedTv",
        "outputId": "8e5d8b31-bbd2-4d9c-89f5-c237be5f0142"
      },
      "execution_count": 17,
      "outputs": [
        {
          "output_type": "stream",
          "name": "stderr",
          "text": [
            "/usr/local/lib/python3.11/dist-packages/sklearn/utils/validation.py:2739: UserWarning: X does not have valid feature names, but StandardScaler was fitted with feature names\n",
            "  warnings.warn(\n"
          ]
        }
      ]
    },
    {
      "cell_type": "code",
      "source": [
        "\n",
        "print(f\"🔮 Prediction for tomorrow’s match:\")\n",
        "print(f\"Win: {win_prob:.2%}, Draw: {draw_prob:.2%}, Loss: {loss_prob:.2%}\")"
      ],
      "metadata": {
        "colab": {
          "base_uri": "https://localhost:8080/"
        },
        "id": "n19-urdUegYl",
        "outputId": "1e9f3d91-84fe-4138-b7d0-dd52f0d77d58"
      },
      "execution_count": 18,
      "outputs": [
        {
          "output_type": "stream",
          "name": "stdout",
          "text": [
            "🔮 Prediction for tomorrow’s match:\n",
            "Win: 99.90%, Draw: 0.00%, Loss: 0.10%\n"
          ]
        }
      ]
    },
    {
      "cell_type": "code",
      "source": [],
      "metadata": {
        "id": "PhTayKpUe1Wo"
      },
      "execution_count": null,
      "outputs": []
    }
  ]
}